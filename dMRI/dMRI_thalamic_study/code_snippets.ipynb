{
 "cells": [
  {
   "cell_type": "markdown",
   "metadata": {},
   "source": [
    "Code snippet for checking if right number of input arguments and then assigning them to variables"
   ]
  },
  {
   "cell_type": "code",
   "execution_count": null,
   "metadata": {},
   "outputs": [],
   "source": [
    "sID=PMR001\n",
    "ssID=MR2\n",
    "\n",
    "if [ \"$#\" -ne 2 ]; then\n",
    "    echo \"Usage: $0 arg1 arg2\"\n",
    "    echo \"Description: This script requires exactly two arguments: PMRxyz anr MRx\"\n",
    "    exit 1\n",
    "else\n",
    "    # Assign arguments to variables\n",
    "    sID=\"$1\"\n",
    "    ssID=\"$2\"\n",
    "    \n",
    "    echo \"Argument 1: $sID\"\n",
    "    echo \"Argument 2: $ssID\"\n",
    "\n",
    "    # Your script logic goes here\n",
    "fi"
   ]
  },
  {
   "cell_type": "code",
   "execution_count": null,
   "metadata": {},
   "outputs": [],
   "source": [
    "import sys\n",
    "\n",
    "# Check if the number of input arguments (excluding the script name) is equal to 2\n",
    "if len(sys.argv) != 3:\n",
    "    print(\"Usage: python script_name.py arg1 arg2\")\n",
    "    print(\"Description: This script requires exactly two arguments. arg1 and arg2 are used for...\")\n",
    "    sys.exit(1)\n",
    "else:\n",
    "    # Assign arguments to variables\n",
    "    sID = sys.argv[1]\n",
    "    ssID = sys.argv[2]\n",
    "\n",
    "    print(\"Argument 1:\", sID)\n",
    "    print(\"Argument 2:\", ssID)\n"
   ]
  },
  {
   "cell_type": "markdown",
   "metadata": {},
   "source": []
  }
 ],
 "metadata": {
  "language_info": {
   "name": "python"
  },
  "orig_nbformat": 4
 },
 "nbformat": 4,
 "nbformat_minor": 2
}
